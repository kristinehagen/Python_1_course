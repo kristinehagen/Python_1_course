{
 "cells": [
  {
   "cell_type": "markdown",
   "metadata": {
    "slideshow": {
     "slide_type": "slide"
    }
   },
   "source": [
    " # Introduction to Programming: Python"
   ]
  },
  {
   "cell_type": "markdown",
   "metadata": {
    "slideshow": {
     "slide_type": "subslide"
    }
   },
   "source": [
    "## Agenda\n",
    "+ Introduction to programming\n",
    "+ Basic functionality: Variables and data types\n",
    "+ Booleans, logical test and conditions\n",
    "+ For loop"
   ]
  },
  {
   "cell_type": "markdown",
   "metadata": {
    "slideshow": {
     "slide_type": "slide"
    }
   },
   "source": [
    "## What is programming?\n"
   ]
  },
  {
   "cell_type": "markdown",
   "metadata": {
    "slideshow": {
     "slide_type": "subslide"
    }
   },
   "source": [
    "<center>«Programming is the process of creating a set of instructions that tell a computer how to perform a task.»</center>\n"
   ]
  },
  {
   "cell_type": "markdown",
   "metadata": {
    "slideshow": {
     "slide_type": "subslide"
    }
   },
   "source": [
    "<center>«You can think of a computer as a very obedient dog, listening to your every command, and doing whatever you tell it to do.»</center>\n"
   ]
  },
  {
   "cell_type": "markdown",
   "metadata": {
    "slideshow": {
     "slide_type": "subslide"
    }
   },
   "source": [
    "![Språk](languages.png)"
   ]
  },
  {
   "cell_type": "markdown",
   "metadata": {
    "slideshow": {
     "slide_type": "slide"
    }
   },
   "source": [
    "## Hello, world!\n",
    "No true programming course starts without a \"Hello, world!\" demonstration."
   ]
  },
  {
   "cell_type": "code",
   "execution_count": null,
   "metadata": {},
   "outputs": [],
   "source": [
    "print(\"Hallo World!\")\n"
   ]
  },
  {
   "cell_type": "markdown",
   "metadata": {
    "slideshow": {
     "slide_type": "slide"
    }
   },
   "source": [
    "## Variables\n",
    "\n",
    "A variable is a place to store a value.\n"
   ]
  },
  {
   "cell_type": "code",
   "execution_count": null,
   "metadata": {
    "slideshow": {
     "slide_type": "fragment"
    }
   },
   "outputs": [],
   "source": [
    "# Variable assignment\n",
    "print(1)\n",
    "a = 2\n",
    "print(a)\n"
   ]
  },
  {
   "cell_type": "code",
   "execution_count": null,
   "metadata": {
    "slideshow": {
     "slide_type": "fragment"
    }
   },
   "outputs": [],
   "source": [
    "# Variable values may change\n",
    "a = 1\n",
    "a = 2\n",
    "print(a)"
   ]
  },
  {
   "cell_type": "markdown",
   "metadata": {
    "slideshow": {
     "slide_type": "subslide"
    }
   },
   "source": [
    "### Mathematical operations\n",
    "\n",
    "\n",
    "Useful mathematical operators:\n",
    "+ Addition: +\n",
    "+ Subtraction: -\n",
    "+ Multiplication: *\n",
    "+ Division: /"
   ]
  },
  {
   "cell_type": "code",
   "execution_count": null,
   "metadata": {
    "slideshow": {
     "slide_type": "fragment"
    }
   },
   "outputs": [],
   "source": [
    "# Addition of variables\n",
    "a = 1\n",
    "b = 2\n",
    "c = a + b\n",
    "print(c)"
   ]
  },
  {
   "cell_type": "code",
   "execution_count": null,
   "metadata": {
    "slideshow": {
     "slide_type": "fragment"
    }
   },
   "outputs": [],
   "source": [
    "# Increase value of a variable\n",
    "a = 1\n",
    "a = a + 1\n",
    "a += 1\n",
    "print(a)"
   ]
  },
  {
   "cell_type": "code",
   "execution_count": null,
   "metadata": {
    "slideshow": {
     "slide_type": "subslide"
    }
   },
   "outputs": [],
   "source": [
    "# Variables are used all the time!\n",
    "elevation = 10\n",
    "height = 15\n",
    "absolute_height = elevation + height\n",
    "\n",
    "print(absolute_height)"
   ]
  },
  {
   "cell_type": "markdown",
   "metadata": {
    "slideshow": {
     "slide_type": "slide"
    }
   },
   "source": [
    "## Data types\n",
    "\n",
    "All data in a program must be represented as a data type. Examples of information you might want to represent in a data program include:\n",
    "+ Numbers\n",
    "+ Text\n",
    "+ Booleans\n",
    "+ Lists\n",
    "+ and many many more\n",
    "\n",
    "\n",
    "\n"
   ]
  },
  {
   "cell_type": "code",
   "execution_count": null,
   "metadata": {
    "slideshow": {
     "slide_type": "subslide"
    }
   },
   "outputs": [],
   "source": [
    "integer = 5\n",
    "print(integer)\n"
   ]
  },
  {
   "cell_type": "code",
   "execution_count": null,
   "metadata": {
    "slideshow": {
     "slide_type": "fragment"
    }
   },
   "outputs": [],
   "source": [
    "float = 5.2\n",
    "print(float)\n"
   ]
  },
  {
   "cell_type": "code",
   "execution_count": null,
   "metadata": {
    "slideshow": {
     "slide_type": "fragment"
    }
   },
   "outputs": [],
   "source": [
    "string = \"Spacemaker\"\n",
    "print(string)"
   ]
  },
  {
   "cell_type": "markdown",
   "metadata": {
    "slideshow": {
     "slide_type": "subslide"
    }
   },
   "source": [
    "### Combining multiple elements in a print\n"
   ]
  },
  {
   "cell_type": "code",
   "execution_count": null,
   "metadata": {
    "slideshow": {
     "slide_type": "fragment"
    }
   },
   "outputs": [],
   "source": [
    "# Combining multiple strings\n",
    "name = \"Spacemaker\"\n",
    "print(\"Company name is: \" + name)"
   ]
  },
  {
   "cell_type": "code",
   "execution_count": null,
   "metadata": {
    "slideshow": {
     "slide_type": "fragment"
    }
   },
   "outputs": [],
   "source": [
    "# Combining string and number\n",
    "name = \"Kate\"\n",
    "age = 28\n",
    "print(\"Her name is \" + name + \" and her age is \" + str(age))"
   ]
  },
  {
   "cell_type": "markdown",
   "metadata": {
    "slideshow": {
     "slide_type": "subslide"
    }
   },
   "source": [
    "### Problem 1: Printing and variable assignment"
   ]
  },
  {
   "cell_type": "code",
   "execution_count": null,
   "metadata": {
    "slideshow": {
     "slide_type": "fragment"
    }
   },
   "outputs": [],
   "source": [
    "# Task 1.1 - Print the sum of variables\n",
    "a = 4\n",
    "b = 6\n",
    "print(\"The sum of a and b is \")"
   ]
  },
  {
   "cell_type": "code",
   "execution_count": null,
   "metadata": {
    "slideshow": {
     "slide_type": "fragment"
    }
   },
   "outputs": [],
   "source": [
    "# Task 1.2 - Make the print statement flexible so that a change in the variable\n",
    "# \"first_name\" and \"last_name\" actually changes the print statement\n",
    "first_name = \"Kari\"\n",
    "last_name = \"Hansen\"\n",
    "print(\"My first name is Kari and my last name is Hansen\")"
   ]
  },
  {
   "cell_type": "code",
   "execution_count": null,
   "metadata": {
    "slideshow": {
     "slide_type": "fragment"
    }
   },
   "outputs": [],
   "source": [
    "# Task 1.3 - Create a currency calculator that prints for example: \"300 NOK = 29.59 EUR\"\n",
    "nok = 300\n",
    "euro_to_nok = 10.139\n"
   ]
  },
  {
   "cell_type": "markdown",
   "metadata": {
    "slideshow": {
     "slide_type": "slide"
    }
   },
   "source": [
    "## Input from user\n",
    "Input is used to get input from the user that runs your program\n"
   ]
  },
  {
   "cell_type": "code",
   "execution_count": null,
   "metadata": {
    "slideshow": {
     "slide_type": "fragment"
    }
   },
   "outputs": [],
   "source": [
    "age = input(\"How old are you? \")\n",
    "print(age)\n"
   ]
  },
  {
   "cell_type": "code",
   "execution_count": null,
   "metadata": {
    "slideshow": {
     "slide_type": "fragment"
    }
   },
   "outputs": [],
   "source": [
    "# Task 2.1 - Write a program that asks the user for her name. Then print the name.\n",
    "name = input(\"What is your name?\")\n",
    "print(name)\n"
   ]
  },
  {
   "cell_type": "markdown",
   "metadata": {
    "slideshow": {
     "slide_type": "slide"
    }
   },
   "source": [
    "## Booleans, Logical Test and Conditions\n",
    "We represent *booleans* with True or False.\n"
   ]
  },
  {
   "cell_type": "code",
   "execution_count": null,
   "metadata": {
    "slideshow": {
     "slide_type": "fragment"
    }
   },
   "outputs": [],
   "source": [
    "# True or False are like any other value and can be assigned to a variable\n",
    "a = True\n",
    "b = False\n"
   ]
  },
  {
   "cell_type": "markdown",
   "metadata": {
    "slideshow": {
     "slide_type": "fragment"
    }
   },
   "source": [
    "Booleans are usually the result of a *logical test*. In Python we have 7 logical tests:\n",
    "+ Equality (==)\n",
    "+ Inequality (!=)\n",
    "+ Greater (>)\n",
    "+ Less (>)\n",
    "+ Greater or equal (>=)\n",
    "+ Less or equal (<=)\n",
    "+ List existence (in)"
   ]
  },
  {
   "cell_type": "code",
   "execution_count": null,
   "metadata": {
    "slideshow": {
     "slide_type": "subslide"
    }
   },
   "outputs": [],
   "source": [
    "# Test if two numbers are equal, and store the resulting boolean in a variable\n",
    "a = 10\n",
    "b = 1\n",
    "numbers_are_equal = (a == b)\n",
    "print(numbers_are_equal)\n"
   ]
  },
  {
   "cell_type": "markdown",
   "metadata": {
    "slideshow": {
     "slide_type": "fragment"
    }
   },
   "source": [
    "Booleans are used when testing *conditions*. A condition can be framed as a yes or no question:\n",
    "+ If yes, then do something\n",
    "+ If no, do something else\n",
    "\n",
    "In Python this is represented using an *if-else statement*. The general syntax of an if-else statement is as follow:\n",
    "```python\n",
    "if expression:\n",
    "    do_this()\n",
    "else:\n",
    "    do_that()\n",
    "```"
   ]
  },
  {
   "cell_type": "code",
   "execution_count": null,
   "metadata": {
    "slideshow": {
     "slide_type": "subslide"
    }
   },
   "outputs": [],
   "source": [
    "# Greater or equal\n",
    "age = 26\n",
    "\n",
    "if age >= 18:\n",
    "    print(\"You are of legal age\")\n",
    "else:\n",
    "    print(\"you are below legal age\")\n"
   ]
  },
  {
   "cell_type": "markdown",
   "metadata": {
    "slideshow": {
     "slide_type": "subslide"
    }
   },
   "source": [
    "What if we have a test with more than one possible outcome? \n",
    "```python\n",
    "if expression_1:\n",
    "    statement(s)\n",
    "elif expression_2:\n",
    "    statement(s)\n",
    "else:\n",
    "    statement(s)\n",
    "```"
   ]
  },
  {
   "cell_type": "code",
   "execution_count": null,
   "metadata": {
    "slideshow": {
     "slide_type": "fragment"
    }
   },
   "outputs": [],
   "source": [
    "# Test if a number is less than, equal to or greater than 0\n",
    "a = 1\n",
    "if a < 0:\n",
    "    print(\"The number is less than zero!\")\n",
    "elif a == 0:\n",
    "    print(\"The number is equal to zero!\")\n",
    "else:\n",
    "    print(\"The number is greater than zero!\")\n",
    "    "
   ]
  },
  {
   "cell_type": "markdown",
   "metadata": {
    "slideshow": {
     "slide_type": "slide"
    }
   },
   "source": [
    "### Problem 3: Train Ticket Price Calculator\n",
    "\n",
    "#### Problem 3.1: Price based on time until travel\n",
    "Your program should have the following functionality:\n",
    "1. Ask the user for the number of days until travel\n",
    "2. Return the price for the ticket to the user based on the number of days entered\n",
    "\n",
    "The pricing rules are as follows: If it is more than 10 days until travel the price is 200 NOK (mini-price), otherwise the price is 450 NOK.  \n"
   ]
  },
  {
   "cell_type": "code",
   "execution_count": null,
   "metadata": {
    "slideshow": {
     "slide_type": "subslide"
    }
   },
   "outputs": [],
   "source": [
    "# Solution example to problem 3.1\n",
    "days_until_travel = int(input(\"How many days until travel? \"))\n"
   ]
  },
  {
   "cell_type": "code",
   "execution_count": null,
   "metadata": {
    "slideshow": {
     "slide_type": "subslide"
    }
   },
   "outputs": [],
   "source": [
    "# Solution example to problem 3.1\n",
    "days_until_travel = int(input(\"How many days until travel? \"))\n",
    "if days_until_travel > 10:\n",
    "    print(\"The ticket will cost 200 NOK\")\n",
    "else:\n",
    "    print(\"The ticket will cost 450 NOK\")"
   ]
  },
  {
   "cell_type": "markdown",
   "metadata": {
    "slideshow": {
     "slide_type": "subslide"
    }
   },
   "source": [
    "#### Problem 3.2: Price based on time until travel and age\n",
    "Your program should have the same functionality as in problem 3.1, but should also include:\n",
    "1. Ask the user for age\n",
    "2. If the user is younger than 16 they are given a 50% discount, and if they are older than 59 they are given a 25% discount\n",
    "\n",
    "Example of code running:\n",
    "\n",
    "*How many days until travel? <span style=\"color:blue\">3</span>  \n",
    "How old are you? <span style=\"color:blue\">15</span>  \n",
    "The ticket will cost 225 NOK.*"
   ]
  },
  {
   "cell_type": "code",
   "execution_count": null,
   "metadata": {
    "slideshow": {
     "slide_type": "subslide"
    }
   },
   "outputs": [],
   "source": [
    "# Solution example to problem 3.2\n",
    "days_until_travel = int(input(\"How many days until travel? \"))\n",
    "age = int(input(\"What is your age? \"))\n",
    "\n"
   ]
  },
  {
   "cell_type": "code",
   "execution_count": null,
   "metadata": {
    "slideshow": {
     "slide_type": "subslide"
    }
   },
   "outputs": [],
   "source": [
    "# Solution example to problem 3.2\n",
    "days_until_travel = int(input(\"How many days until travel? \"))\n",
    "age = int(input(\"What is your age? \"))\n",
    "\n",
    "if days_until_travel > 10:\n",
    "    price = 200   \n",
    "else:\n",
    "    price = 450\n",
    "\n",
    "if age < 16:\n",
    "    price *= 0.5\n",
    "elif age > 59:\n",
    "    price *= 0.75\n",
    "    \n",
    "print(\"The ticket will cost \" + str(price) + \" NOK\")\n"
   ]
  },
  {
   "cell_type": "markdown",
   "metadata": {
    "slideshow": {
     "slide_type": "slide"
    }
   },
   "source": [
    "### Loops\n",
    "One of the main reason to utilize programming is the computers ability to do repetitive tasks very fast. In Python we have two types of loops:\n",
    "1. While-loop: Do something until a condition becomes true\n",
    "2. For-loop: Do something for a given number of times\n"
   ]
  },
  {
   "cell_type": "markdown",
   "metadata": {
    "slideshow": {
     "slide_type": "subslide"
    }
   },
   "source": [
    "The syntax for a for-loop is as follows:\n",
    "```python\n",
    "for variable in condition:\n",
    "    statement(s)\n",
    "```"
   ]
  },
  {
   "cell_type": "code",
   "execution_count": null,
   "metadata": {
    "slideshow": {
     "slide_type": "fragment"
    }
   },
   "outputs": [],
   "source": [
    "# For-loop iterating over all elements in a list\n",
    "cities = [\"Oslo\", \"Bergen\", \"Trondheim\", \"Stavanger\"]\n",
    "\n",
    "for city in cities:\n",
    "    print(city)\n",
    "    "
   ]
  },
  {
   "cell_type": "code",
   "execution_count": null,
   "metadata": {
    "slideshow": {
     "slide_type": "fragment"
    }
   },
   "outputs": [],
   "source": [
    "# For-loop calculating the sum of all numbers in a list\n",
    "my_list = [1, 2, 3]\n",
    "result = 0\n",
    "\n",
    "for element in my_list:\n",
    "    result += element\n",
    "    \n",
    "print(result)\n"
   ]
  },
  {
   "cell_type": "markdown",
   "metadata": {
    "slideshow": {
     "slide_type": "subslide"
    }
   },
   "source": [
    "### Problem 4: For-loops \n",
    "\n",
    "building_heights = [15, 21, 20, 18, 20, 24, 14, 14]\n",
    "max_height = 23\n",
    "\n",
    "\n",
    "1. Implement a program that checks if any building is heigher than the max height.  \n"
   ]
  },
  {
   "cell_type": "code",
   "execution_count": null,
   "metadata": {
    "slideshow": {
     "slide_type": "subslide"
    }
   },
   "outputs": [],
   "source": [
    "# Solution to Problem 4 - Print if found\n",
    "\n",
    "building_heights = [15, 21, 20, 18, 20, 24, 14, 14]\n",
    "max_height = 23\n",
    "\n",
    "\n",
    "\n"
   ]
  },
  {
   "cell_type": "code",
   "execution_count": null,
   "metadata": {
    "slideshow": {
     "slide_type": "subslide"
    }
   },
   "outputs": [],
   "source": [
    "# Solution to Problem 4 - Print if found\n",
    "\n",
    "building_heights = [15, 21, 20, 18, 20, 24, 14, 14]\n",
    "max_height = 23\n",
    "\n",
    "for height in building_heights:\n",
    "    if height > max_height: \n",
    "        print(\"At least one building is higher than the max height\")\n",
    "\n",
    "\n",
    "\n"
   ]
  },
  {
   "cell_type": "code",
   "execution_count": null,
   "metadata": {
    "slideshow": {
     "slide_type": "subslide"
    }
   },
   "outputs": [],
   "source": [
    "# Solution to Problem 4 - Find highest building\n",
    "\n",
    "building_heights = [15, 21, 20, 18, 20, 24, 14, 14]\n",
    "max_height = 23\n",
    "\n",
    "heighest_building_height = 0\n",
    "for height in building_heights:\n",
    "    if height > heighest_building_height:\n",
    "        heighest_building_height = height\n",
    "\n",
    "if heighest_building_height > max_height:\n",
    "    print(\"At least one building is higher than the max height\")\n",
    "else:\n",
    "    print(\"No building is higher than the max building height\")\n",
    "\n",
    "\n",
    "\n"
   ]
  },
  {
   "cell_type": "code",
   "execution_count": null,
   "metadata": {
    "slideshow": {
     "slide_type": "subslide"
    }
   },
   "outputs": [],
   "source": [
    "# Solution to Problem 4 - Use internal max function\n",
    "\n",
    "building_heights = [15, 21, 20, 18, 20, 24, 14, 14]\n",
    "max_height = 23\n",
    "\n",
    "height_of_highest_building = max(building_heights)\n",
    "\n",
    "if height_of_highest_building > max_height:\n",
    "    print(\"At least one building is higher than the max height\")\n",
    "else:\n",
    "    print(\"No building is higher than the max building height\")\n",
    "\n",
    "\n",
    "\n"
   ]
  }
 ],
 "metadata": {
  "celltoolbar": "Slideshow",
  "kernelspec": {
   "display_name": "Python 3",
   "language": "python",
   "name": "python3"
  },
  "language_info": {
   "codemirror_mode": {
    "name": "ipython",
    "version": 3
   },
   "file_extension": ".py",
   "mimetype": "text/x-python",
   "name": "python",
   "nbconvert_exporter": "python",
   "pygments_lexer": "ipython3",
   "version": "3.7.4"
  }
 },
 "nbformat": 4,
 "nbformat_minor": 2
}
